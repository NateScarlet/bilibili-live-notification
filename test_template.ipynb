{
 "metadata": {
  "language_info": {
   "codemirror_mode": {
    "name": "ipython",
    "version": 3
   },
   "file_extension": ".py",
   "mimetype": "text/x-python",
   "name": "python",
   "nbconvert_exporter": "python",
   "pygments_lexer": "ipython3",
   "version": "3.8.0-final"
  },
  "orig_nbformat": 2,
  "kernelspec": {
   "name": "python3",
   "display_name": "Python 3.8.0 64-bit",
   "metadata": {
    "interpreter": {
     "hash": "0e3c5707579eec166346c3920495a299d548e2cac1629268d41fbfbbc8433a48"
    }
   }
  }
 },
 "nbformat": 4,
 "nbformat_minor": 2,
 "cells": [
  {
   "cell_type": "code",
   "execution_count": 17,
   "metadata": {},
   "outputs": [],
   "source": [
    "import json\n",
    "with open(\"event.example.json\", encoding=\"utf8\") as f:\n",
    "    event = json.load(f)[\"SUPER_CHAT_MESSAGE_JPN\"]"
   ]
  },
  {
   "cell_type": "code",
   "execution_count": 18,
   "metadata": {},
   "outputs": [],
   "source": [
    "from bilibili_live_notification import room\n",
    "room_data = room.get_with_cache(704808)"
   ]
  },
  {
   "cell_type": "code",
   "execution_count": 19,
   "metadata": {},
   "outputs": [],
   "source": [
    "ctx = dict(event=event, room=room_data)"
   ]
  },
  {
   "cell_type": "code",
   "execution_count": 20,
   "metadata": {},
   "outputs": [
    {
     "output_type": "execute_result",
     "data": {
      "text/plain": [
       "'{\\'text\\': \\'![500](https://img.shields.io/badge/-500-%23E09443) ![face](https://thumb.nates.cn:4443/20x20/http%3A//i2.hdslb.com/bfs/face/8d6e2b517992df9b749ab761c625e4f0e7e824ef.jpg)[碎碎念的春虎君](https://space.bilibili.com/7813737) 舰长 [![王牛奶 26](https://img.shields.io/badge/%E7%8E%8B%E7%89%9B%E5%A5%B6-26-%236154c)](https://live.bilibili.com/21919321 \"HiiroVTuber\")\\\\n#### hiiro一周年快乐，又大又可爱，单挑\\\\nhiiro一周年おめでとうございます。大又も可愛いし、シングルです。\\\\n######_id: 1397940_\\'}'"
      ]
     },
     "metadata": {},
     "execution_count": 20
    }
   ],
   "source": [
    "import os\n",
    "from bilibili_live_notification import config\n",
    "os.environ[\"temp\"] = \"\"\"\\\n",
    "{% set e=event.data.data %}{% set user=\"![face](https://thumb.example.com/20x20/%s)[%s](https://space.bilibili.com/%s)\"|format(e.user_info.face | urlencode, e.user_info.uname, e.uid) %}{% set price=\"![%s](https://img.shields.io/badge/-%s-%s)\"|format(e.price, e.price, e.background_bottom_color | urlencode) %}{% set guard_text={1:\"总督\", 2:\"提督\", 3:\"舰长\"}.get(e.user_info.guard_level, e.user_info.guard_level) %}{% set medal='[![%s %s](https://img.shields.io/badge/%s-%s-%s)](https://live.bilibili.com/%s \"%s\")'|format(e.medal_info.medal_name, e.medal_info.medal_level, e.medal_info.medal_name | urlencode, e.medal_info.medal_level | urlencode, e.medal_info.medal_color | urlencode, e.medal_info.anchor_roomid, e.medal_info.anchor_uname) if e.medal_info else '' %}{{ dict(text=[[price, user, guard_text, medal]|select|join(\" \"), \"#### %s\" | format(e.message), e.message_jpn, \"######_id: %s_\" | format(e.id)] | select | join(\"\\n\") ) }}\n",
    "\"\"\"\n",
    "config.get(\"temp\", ctx)"
   ]
  },
  {
   "cell_type": "code",
   "execution_count": null,
   "metadata": {},
   "outputs": [],
   "source": []
  }
 ]
}