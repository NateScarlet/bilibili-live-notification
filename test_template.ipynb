{
 "metadata": {
  "language_info": {
   "codemirror_mode": {
    "name": "ipython",
    "version": 3
   },
   "file_extension": ".py",
   "mimetype": "text/x-python",
   "name": "python",
   "nbconvert_exporter": "python",
   "pygments_lexer": "ipython3",
   "version": "3.8.0-final"
  },
  "orig_nbformat": 2,
  "kernelspec": {
   "name": "python3",
   "display_name": "Python 3.8.0 64-bit",
   "metadata": {
    "interpreter": {
     "hash": "0e3c5707579eec166346c3920495a299d548e2cac1629268d41fbfbbc8433a48"
    }
   }
  }
 },
 "nbformat": 4,
 "nbformat_minor": 2,
 "cells": [
  {
   "cell_type": "code",
   "execution_count": 1,
   "metadata": {},
   "outputs": [],
   "source": [
    "import json\n",
    "import os\n",
    "import subprocess\n",
    "import asyncio\n",
    "import pprint\n",
    "\n",
    "from bilibili_live_notification import room, config, rate_limit\n",
    "\n",
    "\n",
    "async def init():\n",
    "    rate_limit.BILIBILI_API.set(rate_limit.RateLimiter(50, 1))\n",
    "    room.CACHE_MU.set(asyncio.Lock())\n",
    "\n",
    "async def get_data(*, event_type, room_id=704808,  revision=\"master@{now}\"):\n",
    "    data = subprocess.check_output([\"git\", \"show\", f\"{revision}:event.example.json\"])\n",
    "    event = json.loads(data).get(event_type)\n",
    "    if event is None:\n",
    "        return None\n",
    "    room_data = await room.get_with_cache(event[\"room_display_id\"])\n",
    "    return dict(\n",
    "        room=room_data,\n",
    "        event=event,\n",
    "    )\n",
    "\n",
    "async def render(template, data):\n",
    "    os.environ[\"temp\"] = template\n",
    "    return config.get(\"temp\", data)\n",
    "\n",
    "async def render_multiple(template, /, n=3, **kwargs):\n",
    "    ret = []\n",
    "    last_data = None\n",
    "    i = 0\n",
    "    while len(ret) < n:\n",
    "        data = await get_data(**kwargs, revision=f\"master@{{{i}}}\")\n",
    "        if data is None:\n",
    "            break\n",
    "        if data != last_data:\n",
    "            ret.append(await render(template, data))\n",
    "            last_data = data\n",
    "        i+=1\n",
    "    return ret"
   ]
  },
  {
   "source": [
    "## SuperChat 模版"
   ],
   "cell_type": "markdown",
   "metadata": {}
  },
  {
   "cell_type": "code",
   "execution_count": 2,
   "metadata": {
    "tags": []
   },
   "outputs": [
    {
     "output_type": "execute_result",
     "data": {
      "text/plain": [
       "['{\\'text\\': \\'![30](https://img.shields.io/badge/-30-%232A60B2) ![face](https://thumb.example.com/20x20/http%3A//i0.hdslb.com/bfs/face/member/noface.jpg)[hakuna2](https://space.bilibili.com/10183614) 舰长 [![天妇罗 24](https://img.shields.io/badge/%E5%A4%A9%E5%A6%87%E7%BD%97-24-%231a544b)](https://live.bilibili.com/22347045 \"凤玲天天Official\")\\\\n#### 来人呐！把朕放锅里煮了给天天吃！\\\\n######_id: 1411433_\\'}',\n",
       " '{\\'text\\': \\'![30](https://img.shields.io/badge/-30-%232A60B2) ![face](https://thumb.example.com/20x20/http%3A//i0.hdslb.com/bfs/face/3e7f6bf6b1970c2a9ee597be738a77cdf61562d3.jpg)[杜野04](https://space.bilibili.com/6420216) 舰长 [![IMAS 15](https://img.shields.io/badge/IMAS-15-%23be6686)](https://live.bilibili.com/11101 \"RabbitC\")\\\\n#### 羡慕音游打的好的，我自从打了屁股肉，就再也不会打正常下落式音游了，总想判定线会动\\\\n######_id: 1408909_\\'}',\n",
       " \"{'text': '![30](https://img.shields.io/badge/-30-%232A60B2) ![face](https://thumb.example.com/20x20/http%3A//i2.hdslb.com/bfs/face/4add3acfc930fcd07d06ea5e10a3a377314141c2.jpg)[cici233333](https://space.bilibili.com/9050903) 舰长\\\\n#### 你说的都对\\\\n######_id: 1402444_'}\"]"
      ]
     },
     "metadata": {},
     "execution_count": 2
    }
   ],
   "source": [
    "await init()\n",
    "await render_multiple(\n",
    "    \"\"\"\\\n",
    "{% set e=event.data.data %}{% set user=\"![face](https://thumb.example.com/20x20/%s)[%s](https://space.bilibili.com/%s)\"|format(e.user_info.face | urlencode, e.user_info.uname, e.uid) %}{% set price=\"![%s](https://img.shields.io/badge/-%s-%s)\"|format(e.price, e.price, e.background_bottom_color | urlencode) %}{% set guard_text={1:\"总督\", 2:\"提督\", 3:\"舰长\"}.get(e.user_info.guard_level, e.user_info.guard_level) %}{% set medal='[![%s %s](https://img.shields.io/badge/%s-%s-%s)](https://live.bilibili.com/%s \"%s\")'|format(e.medal_info.medal_name, e.medal_info.medal_level, e.medal_info.medal_name | urlencode, e.medal_info.medal_level | urlencode, e.medal_info.medal_color | urlencode, e.medal_info.anchor_roomid, e.medal_info.anchor_uname) if e.medal_info else '' %}{{ dict(text=[[price, user, guard_text, medal]|select|join(\" \"), \"#### %s\" | format(e.message), e.message_jpn, \"######_id: %s_\" | format(e.id)] | select | join(\"\\n\") ) }}\n",
    "\"\"\",\n",
    "    event_type=\"SUPER_CHAT_MESSAGE_JPN\",\n",
    ")"
   ]
  },
  {
   "source": [
    "## 排行结算模版"
   ],
   "cell_type": "markdown",
   "metadata": {}
  },
  {
   "cell_type": "code",
   "execution_count": 3,
   "metadata": {
    "tags": []
   },
   "outputs": [
    {
     "output_type": "execute_result",
     "data": {
      "text/plain": [
       "[\"{'group_id': 0, 'message': '[电台 No.9]22347045：[B限]中文老歌\\\\nhttps://live.bilibili.com/22347045\\\\n人气：51 248\\\\n状态：开播于 2021-03-12 20:35:16\\\\n[CQ:image,file=http://i0.hdslb.com/bfs/live/keyframe03122220000022347045a9l7qs.jpg]'}\",\n",
       " \"{'group_id': 0, 'message': '[单机游戏 No.6]1017：畅游武侠！ 天地劫\\\\nhttps://live.bilibili.com/1017\\\\n人气：2 657 337\\\\n状态：开播于 2021-03-12 19:11:12\\\\n[CQ:image,file=http://i0.hdslb.com/bfs/live/keyframe03122225000000001017xavbsp.jpg]'}\",\n",
       " \"{'group_id': 0, 'message': '[虚拟主播 No.6]21320551：【b限】点歌歌回【乙女音】\\\\nhttps://live.bilibili.com/21320551\\\\n人气：230 727\\\\n状态：开播于 2021-03-12 19:58:21\\\\n[CQ:image,file=http://i0.hdslb.com/bfs/live/keyframe03122226000021320551ikukjv.jpg]'}\"]"
      ]
     },
     "metadata": {},
     "execution_count": 3
    }
   ],
   "source": [
    "await init()\n",
    "await render_multiple(\n",
    "    \"\"\"\\\n",
    "{% set e = event.data.data %}{% set ri = room.data.room_info %}{% set popularity_text='{0:,}'.format(room.popularity)|replace(\",\", \" \") %}{{ dict(group_id=0, message=['[%s No.%s]%s：%s'|format(e.area_name, e.rank, room.name, room.title), room.url, '人气：%s'|format(popularity_text), '状态：%s'|format({0:'未开播',1:'开播于 %s'|format(datetime.fromtimestamp(ri.live_start_time)),2:'轮播中'}.get(ri.live_status, ri.live_status)), '[CQ:image,file=%s]'|format(ri.keyframe) if ri.live_status == 1]|select|join('\\n')) }}\n",
    "\"\"\",\n",
    "    event_type=\"HOT_RANK_SETTLEMENT\",\n",
    ")"
   ]
  },
  {
   "source": [
    "## 弹幕模版"
   ],
   "cell_type": "markdown",
   "metadata": {}
  },
  {
   "cell_type": "code",
   "execution_count": 4,
   "metadata": {},
   "outputs": [
    {
     "output_type": "stream",
     "name": "stdout",
     "text": [
      "老板大可不必\n　　——咕咕的白老鸽(6034957) 天妇罗|5(22347045)\n\n\nおおおおおおお！！！！\n　　——宵夜_sakuya(555951) 舰长 夏厨|24(1321846)\n\n\n显微镜看散老师手心\n　　——安处于世(40706019) 刺儿|11(1017)\n\n\nhiiro hit me pls\n　　——Straybarry(22498076) 舰长 王牛奶|23(21919321)\n\n\n晚上好\n　　——夜庭りち_richi(693383565) 舰长 王牛奶|24(21919321)\n\n\n"
     ]
    }
   ],
   "source": [
    "await init()\n",
    "for i in await render_multiple(\n",
    "    \"\"\"\\\n",
    "{% set i = event.data.info %}{% set msg = i.1 %}{% set user = \"%s(%s)\"|format(i.2.1,i.2.0) %}{% set medal = \"%s|%s(%s)\" | format(i.3.1, i.3.0, i.3.3) if i.3 else '' %}{% set guard = {0: \"\", 1:\"总督\", 2:\"提督\", 3:\"舰长\"}.get(i.7) %}{% set message=[msg, \"　　——%s\"|format([user,guard,medal]|select|join(' '))]|join('\\n') %}{{ message }}\n",
    "\"\"\",\n",
    "    event_type=\"DANMU_MSG\",\n",
    "    n=5,\n",
    "):\n",
    "    print(i)\n",
    "    print(\"\\n\")"
   ]
  }
 ]
}